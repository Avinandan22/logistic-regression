{
  "nbformat": 4,
  "nbformat_minor": 0,
  "metadata": {
    "colab": {
      "name": "MNIST CNN",
      "version": "0.3.2",
      "provenance": [],
      "include_colab_link": true
    },
    "kernelspec": {
      "name": "python3",
      "display_name": "Python 3"
    },
    "accelerator": "GPU"
  },
  "cells": [
    {
      "cell_type": "markdown",
      "metadata": {
        "id": "view-in-github",
        "colab_type": "text"
      },
      "source": [
        "<a href=\"https://colab.research.google.com/github/Avinandan22/logistic-regression/blob/master/MNIST_CNN.ipynb\" target=\"_parent\"><img src=\"https://colab.research.google.com/assets/colab-badge.svg\" alt=\"Open In Colab\"/></a>"
      ]
    },
    {
      "metadata": {
        "id": "F_zomVq0KMq8",
        "colab_type": "code",
        "colab": {}
      },
      "cell_type": "code",
      "source": [
        "import torch,torchvision\n",
        "from torchvision import *\n",
        "from torch import *"
      ],
      "execution_count": 0,
      "outputs": []
    },
    {
      "metadata": {
        "id": "Q1Cp-O2fK2lj",
        "colab_type": "code",
        "colab": {
          "base_uri": "https://localhost:8080/",
          "height": 121
        },
        "outputId": "a2ed82bb-25eb-4920-d9e4-4bc30f458211"
      },
      "cell_type": "code",
      "source": [
        "trans = torchvision.transforms.Compose([transforms.ToTensor(), transforms.Normalize((0.1307,), (0.3081,))])\n",
        "train_dataset = torchvision.datasets.MNIST('mnist_data',train = True,download = True,transform = trans)\n",
        "test_dataset = torchvision.datasets.MNIST('mnist_data',train = False,download = True,transform = trans)"
      ],
      "execution_count": 2,
      "outputs": [
        {
          "output_type": "stream",
          "text": [
            "Downloading http://yann.lecun.com/exdb/mnist/train-images-idx3-ubyte.gz\n",
            "Downloading http://yann.lecun.com/exdb/mnist/train-labels-idx1-ubyte.gz\n",
            "Downloading http://yann.lecun.com/exdb/mnist/t10k-images-idx3-ubyte.gz\n",
            "Downloading http://yann.lecun.com/exdb/mnist/t10k-labels-idx1-ubyte.gz\n",
            "Processing...\n",
            "Done!\n"
          ],
          "name": "stdout"
        }
      ]
    },
    {
      "metadata": {
        "id": "JwrrWHh3LQ8D",
        "colab_type": "code",
        "colab": {}
      },
      "cell_type": "code",
      "source": [
        "  num_epochs = 5\n",
        "  num_classes = 10\n",
        "  batch_size = 100\n",
        "  learning_rate = 0.001\n",
        "  from torch.utils.data import Dataset, DataLoader\n",
        "  train_loader = DataLoader(dataset=train_dataset, batch_size=batch_size, shuffle=True)\n",
        "  test_loader = DataLoader(dataset=test_dataset, batch_size=batch_size, shuffle=False)"
      ],
      "execution_count": 0,
      "outputs": []
    },
    {
      "metadata": {
        "id": "3GdkGWQeOGVj",
        "colab_type": "code",
        "colab": {}
      },
      "cell_type": "code",
      "source": [
        "import torch.nn as nn\n",
        "\"\"\"\"\n",
        "class ConvNet(nn.Module):\n",
        "  def __init__(self):\n",
        "    super(ConvNet, self).__init__()\n",
        "    self.layer1 = nn.Sequential(nn.Conv2d(1,32,kernel_size = 5,stride = 1,padding = 2),nn.ReLU(),nn.MaxPool2d(kernel_size = 2,stride = 2))\n",
        "    self.layer2 = nn.Sequential(nn.Conv2d(32,64,kernel_size = 5,stride = 1,padding = 2),nn.ReLU(),nn.MaxPool2d(kernel_size = 2,stride = 2))\n",
        "    self.drop_out = nn.Dropout()\n",
        "    self.fc1 = nn.Linear(7 * 7 * 64,1000)\n",
        "    self.fc2 = nn.Linear(1000,10)\n",
        "def forward(self, x):\n",
        "  out = self.layer1(x)\n",
        "  out = self.layer2(out)\n",
        "  out = out.reshape(out.size(0), -1)\n",
        "  out = self.drop_out(out)\n",
        "  out = self.fc1(out)\n",
        "  out = self.fc2(out)\n",
        "  return out\n",
        "\"\"\"\n",
        "class ConvNet(nn.Module):\n",
        "    def __init__(self):\n",
        "        super(ConvNet, self).__init__()\n",
        "        self.layer1 = nn.Sequential(\n",
        "            nn.Conv2d(1, 32, kernel_size=5, stride=1, padding=2),\n",
        "            nn.ReLU(),\n",
        "            nn.MaxPool2d(kernel_size=2, stride=2))\n",
        "        self.layer2 = nn.Sequential(\n",
        "            nn.Conv2d(32, 64, kernel_size=5, stride=1, padding=2),\n",
        "            nn.ReLU(),\n",
        "            nn.MaxPool2d(kernel_size=2, stride=2))\n",
        "        self.drop_out = nn.Dropout()\n",
        "        self.fc1 = nn.Linear(7 * 7 * 64, 1000)\n",
        "        self.fc2 = nn.Linear(1000, 10)\n",
        "    def forward(self, x):\n",
        "      out = self.layer1(x)\n",
        "      out = self.layer2(out)\n",
        "      out = out.reshape(out.size(0), -1)\n",
        "      out = self.drop_out(out)\n",
        "      out = self.fc1(out)\n",
        "      out = self.fc2(out)\n",
        "      return out\n",
        "  "
      ],
      "execution_count": 0,
      "outputs": []
    },
    {
      "metadata": {
        "id": "048WsdvBkV2V",
        "colab_type": "code",
        "colab": {}
      },
      "cell_type": "code",
      "source": [
        "model = ConvNet()\n",
        "criterion = nn.CrossEntropyLoss()\n",
        "optimizer = torch.optim.Adam(model.parameters(),lr = learning_rate)\n"
      ],
      "execution_count": 0,
      "outputs": []
    },
    {
      "metadata": {
        "id": "lLKwCtB-mG9v",
        "colab_type": "code",
        "colab": {
          "base_uri": "https://localhost:8080/",
          "height": 538
        },
        "outputId": "352d8959-0eab-4a37-e073-626cd82c4ce9"
      },
      "cell_type": "code",
      "source": [
        "\"\"\"\n",
        "total_step = len(train_loader)\n",
        "loss_list = []\n",
        "acc_list = []\n",
        "for epoch in range(num_epochs):\n",
        "  for i,(images,labels) in enumerate(train_loader):\n",
        "    outputs = model(images)\n",
        "    loss = criterion(outputs, labels)\n",
        "    loss_list.append(loss.item())\n",
        "    optimizer.zero_grad()\n",
        "    loss.backward()\n",
        "    optimizer.step()\n",
        "    total = labels.size(0)\n",
        "    predicted = torch.max(outputs.data, 1)\n",
        "    correct = (predicted == labels).sum().item()\n",
        "    acc_list.append(correct / total)\n",
        "    if (i + 1) % 100 == 0:\n",
        "      print('Epoch [{}/{}], Step [{}/{}], Loss: {:.4f}, Accuracy: {:.2f}%'.format(epoch + 1, num_epochs, i + 1, total_step, loss.item(),(correct / total) * 100))\n",
        "\"\"\"\n",
        "total_step = len(train_loader)\n",
        "loss_list = []\n",
        "acc_list = []\n",
        "for epoch in range(num_epochs):\n",
        "    for i, (images, labels) in enumerate(train_loader):\n",
        "        # Run the forward pass\n",
        "        outputs = model(images)\n",
        "        loss = criterion(outputs, labels)\n",
        "        loss_list.append(loss.item())\n",
        "\n",
        "        # Backprop and perform Adam optimisation\n",
        "        optimizer.zero_grad()\n",
        "        loss.backward()\n",
        "        optimizer.step()\n",
        "\n",
        "        # Track the accuracy\n",
        "        total = labels.size(0)\n",
        "        _, predicted = torch.max(outputs.data, 1)\n",
        "        correct = (predicted == labels).sum().item()\n",
        "        acc_list.append(correct / total)\n",
        "\n",
        "        if (i + 1) % 100 == 0:\n",
        "            print('Epoch [{}/{}], Step [{}/{}], Loss: {:.4f}, Accuracy: {:.2f}%'\n",
        "                  .format(epoch + 1, num_epochs, i + 1, total_step, loss.item(),\n",
        "                          (correct / total) * 100))"
      ],
      "execution_count": 9,
      "outputs": [
        {
          "output_type": "stream",
          "text": [
            "Epoch [1/5], Step [100/600], Loss: 0.0931, Accuracy: 99.00%\n",
            "Epoch [1/5], Step [200/600], Loss: 0.1128, Accuracy: 95.00%\n",
            "Epoch [1/5], Step [300/600], Loss: 0.0790, Accuracy: 97.00%\n",
            "Epoch [1/5], Step [400/600], Loss: 0.0496, Accuracy: 97.00%\n",
            "Epoch [1/5], Step [500/600], Loss: 0.1196, Accuracy: 97.00%\n",
            "Epoch [1/5], Step [600/600], Loss: 0.0915, Accuracy: 95.00%\n",
            "Epoch [2/5], Step [100/600], Loss: 0.0497, Accuracy: 97.00%\n",
            "Epoch [2/5], Step [200/600], Loss: 0.0483, Accuracy: 98.00%\n",
            "Epoch [2/5], Step [300/600], Loss: 0.1340, Accuracy: 98.00%\n",
            "Epoch [2/5], Step [400/600], Loss: 0.0656, Accuracy: 97.00%\n",
            "Epoch [2/5], Step [500/600], Loss: 0.0181, Accuracy: 100.00%\n",
            "Epoch [2/5], Step [600/600], Loss: 0.0934, Accuracy: 98.00%\n",
            "Epoch [3/5], Step [100/600], Loss: 0.0587, Accuracy: 99.00%\n",
            "Epoch [3/5], Step [200/600], Loss: 0.1528, Accuracy: 96.00%\n",
            "Epoch [3/5], Step [300/600], Loss: 0.0397, Accuracy: 98.00%\n",
            "Epoch [3/5], Step [400/600], Loss: 0.0130, Accuracy: 100.00%\n",
            "Epoch [3/5], Step [500/600], Loss: 0.0306, Accuracy: 99.00%\n",
            "Epoch [3/5], Step [600/600], Loss: 0.1210, Accuracy: 97.00%\n",
            "Epoch [4/5], Step [100/600], Loss: 0.0502, Accuracy: 99.00%\n",
            "Epoch [4/5], Step [200/600], Loss: 0.0465, Accuracy: 98.00%\n",
            "Epoch [4/5], Step [300/600], Loss: 0.0725, Accuracy: 97.00%\n",
            "Epoch [4/5], Step [400/600], Loss: 0.0247, Accuracy: 99.00%\n",
            "Epoch [4/5], Step [500/600], Loss: 0.0698, Accuracy: 99.00%\n",
            "Epoch [4/5], Step [600/600], Loss: 0.0360, Accuracy: 99.00%\n",
            "Epoch [5/5], Step [100/600], Loss: 0.0598, Accuracy: 98.00%\n",
            "Epoch [5/5], Step [200/600], Loss: 0.0723, Accuracy: 98.00%\n",
            "Epoch [5/5], Step [300/600], Loss: 0.0144, Accuracy: 99.00%\n",
            "Epoch [5/5], Step [400/600], Loss: 0.0285, Accuracy: 99.00%\n",
            "Epoch [5/5], Step [500/600], Loss: 0.0344, Accuracy: 99.00%\n",
            "Epoch [5/5], Step [600/600], Loss: 0.0757, Accuracy: 96.00%\n"
          ],
          "name": "stdout"
        }
      ]
    },
    {
      "metadata": {
        "id": "vyK88nZboal3",
        "colab_type": "code",
        "colab": {
          "base_uri": "https://localhost:8080/",
          "height": 34
        },
        "outputId": "b14523ad-77c3-41df-9d60-7a6a5ee88dfd"
      },
      "cell_type": "code",
      "source": [
        "model.eval()\n",
        "with torch.no_grad():\n",
        "    correct = 0\n",
        "    total = 0\n",
        "    for images, labels in test_loader:\n",
        "        outputs = model(images)\n",
        "        _, predicted = torch.max(outputs.data, 1)\n",
        "        total += labels.size(0)\n",
        "        correct += (predicted == labels).sum().item()\n",
        "\n",
        "    print('Test Accuracy of the model on the 10000 test images: {} %'.format((correct / total) * 100))"
      ],
      "execution_count": 10,
      "outputs": [
        {
          "output_type": "stream",
          "text": [
            "Test Accuracy of the model on the 10000 test images: 98.98 %\n"
          ],
          "name": "stdout"
        }
      ]
    },
    {
      "metadata": {
        "id": "GgLj8Dso7RMI",
        "colab_type": "code",
        "colab": {}
      },
      "cell_type": "code",
      "source": [
        ""
      ],
      "execution_count": 0,
      "outputs": []
    }
  ]
}